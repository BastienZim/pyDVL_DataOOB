{
 "cells": [
  {
   "cell_type": "code",
   "execution_count": 1,
   "metadata": {},
   "outputs": [],
   "source": [
    "from sklearn.neighbors import KNeighborsClassifier\n",
    "from sklearn.tree import DecisionTreeClassifier\n",
    "from sklearn.tree import DecisionTreeRegressor\n",
    "from sklearn.linear_model import LogisticRegression\n",
    "from lightgbm import LGBMClassifier\n",
    "\n",
    "import matplotlib.pyplot as plt\n",
    "import seaborn as sns\n",
    "import numpy as np\n",
    "\n",
    "from pydvl.value import compute_data_oob\n",
    "from pydvl.utils import Dataset, Utility, Scorer\n",
    "from pydvl.reporting.scores import compute_removal_score\n",
    "from pydvl.reporting.plots import shaded_mean_std, plot_best_worst, plot_best_worst_class_imbalance, compute_best_worst_scores, plot_methods_linreg\n",
    "from pydvl.value.result import ValuationResult\n",
    "\n",
    "from sklearn.datasets import load_iris, fetch_kddcup99, fetch_openml\n",
    "import pandas as pd"
   ]
  },
  {
   "cell_type": "code",
   "execution_count": 5,
   "metadata": {},
   "outputs": [],
   "source": [
    "from sdv.datasets.demo import download_demo\n",
    "\n",
    "real_data, metadata = download_demo(\n",
    "    modality='single_table',\n",
    "    dataset_name='fake_hotel_guests'\n",
    ")"
   ]
  },
  {
   "cell_type": "code",
   "execution_count": 6,
   "metadata": {},
   "outputs": [
    {
     "data": {
      "text/plain": [
       "{\n",
       "    \"METADATA_SPEC_VERSION\": \"SINGLE_TABLE_V1\",\n",
       "    \"columns\": {\n",
       "        \"guest_email\": {\n",
       "            \"sdtype\": \"email\",\n",
       "            \"pii\": true\n",
       "        },\n",
       "        \"has_rewards\": {\n",
       "            \"sdtype\": \"boolean\"\n",
       "        },\n",
       "        \"room_type\": {\n",
       "            \"sdtype\": \"categorical\"\n",
       "        },\n",
       "        \"amenities_fee\": {\n",
       "            \"sdtype\": \"numerical\",\n",
       "            \"computer_representation\": \"Float\"\n",
       "        },\n",
       "        \"checkin_date\": {\n",
       "            \"sdtype\": \"datetime\",\n",
       "            \"datetime_format\": \"%d %b %Y\"\n",
       "        },\n",
       "        \"checkout_date\": {\n",
       "            \"sdtype\": \"datetime\",\n",
       "            \"datetime_format\": \"%d %b %Y\"\n",
       "        },\n",
       "        \"room_rate\": {\n",
       "            \"sdtype\": \"numerical\",\n",
       "            \"computer_representation\": \"Float\"\n",
       "        },\n",
       "        \"billing_address\": {\n",
       "            \"sdtype\": \"address\",\n",
       "            \"pii\": true\n",
       "        },\n",
       "        \"credit_card_number\": {\n",
       "            \"sdtype\": \"credit_card_number\",\n",
       "            \"pii\": true\n",
       "        }\n",
       "    },\n",
       "    \"primary_key\": \"guest_email\"\n",
       "}"
      ]
     },
     "execution_count": 6,
     "metadata": {},
     "output_type": "execute_result"
    }
   ],
   "source": [
    "metadata"
   ]
  },
  {
   "cell_type": "code",
   "execution_count": 44,
   "metadata": {},
   "outputs": [],
   "source": [
    "import pandas as pd\n",
    "from sklearn.datasets import load_iris\n",
    "\n",
    "data = Dataset.from_sklearn(load_iris())"
   ]
  },
  {
   "cell_type": "code",
   "execution_count": 48,
   "metadata": {},
   "outputs": [],
   "source": [
    "from sklearn.mixture import GaussianMixture"
   ]
  },
  {
   "cell_type": "code",
   "execution_count": 64,
   "metadata": {},
   "outputs": [
    {
     "data": {
      "text/plain": [
       "array([ 0,  1,  2,  3,  4,  5,  6,  7,  8,  9, 10, 11, 12, 13, 14, 15, 16,\n",
       "       17, 18, 19, 20, 21, 22, 23, 24, 25, 26, 27, 28, 29, 30, 31, 32, 33,\n",
       "       34, 35, 36, 37, 38, 39, 40, 41, 42, 43, 44, 45, 46, 47, 48, 49, 50,\n",
       "       51, 52, 53, 54, 55, 56, 57, 58, 59, 60, 61, 62, 63, 64, 65, 66, 67,\n",
       "       68, 69, 70, 71, 72, 73, 74, 75, 76, 77, 78, 79, 80, 81, 82, 83, 84,\n",
       "       85, 86, 87, 88, 89, 90, 91, 92, 93, 94, 95, 96, 97, 98, 99])"
      ]
     },
     "execution_count": 64,
     "metadata": {},
     "output_type": "execute_result"
    }
   ],
   "source": [
    "indexes = np.arange(100)\n",
    "indexes"
   ]
  },
  {
   "cell_type": "code",
   "execution_count": 65,
   "metadata": {},
   "outputs": [],
   "source": [
    "import random"
   ]
  },
  {
   "cell_type": "code",
   "execution_count": 95,
   "metadata": {},
   "outputs": [],
   "source": [
    "def sample_bag(indexes, max_samples):\n",
    "    n_samp = int(max_samples*len(indexes))\n",
    "    return(random.choices(indexes, k=n_samp))"
   ]
  },
  {
   "cell_type": "code",
   "execution_count": null,
   "metadata": {},
   "outputs": [],
   "source": [
    "sample_bag(indexes, 0.3)"
   ]
  },
  {
   "cell_type": "code",
   "execution_count": 98,
   "metadata": {},
   "outputs": [
    {
     "data": {
      "text/plain": [
       "[[41, 40, 84, 74, 16],\n",
       " [47, 98, 62, 88, 76],\n",
       " [27, 76, 84, 0, 50],\n",
       " [47, 8, 78, 86, 37]]"
      ]
     },
     "execution_count": 98,
     "metadata": {},
     "output_type": "execute_result"
    }
   ],
   "source": [
    "n_estimators = 4\n",
    "max_samples = 0.6\n",
    "\n",
    "bags_indexes = [sample_bag(indexes, 0.05) for _ in range(n_estimators)]\n",
    "bags_indexes"
   ]
  },
  {
   "cell_type": "code",
   "execution_count": 105,
   "metadata": {},
   "outputs": [
    {
     "data": {
      "text/plain": [
       "[GaussianMixture(), GaussianMixture(), GaussianMixture(), GaussianMixture()]"
      ]
     },
     "execution_count": 105,
     "metadata": {},
     "output_type": "execute_result"
    }
   ],
   "source": [
    "estimators = [GaussianMixture().fit(data.x_train[indx]) for indx in bags_indexes]\n",
    "estimators\n",
    "    "
   ]
  },
  {
   "cell_type": "code",
   "execution_count": 118,
   "metadata": {},
   "outputs": [
    {
     "data": {
      "text/plain": [
       "[IsolationForest(), IsolationForest(), IsolationForest(), IsolationForest()]"
      ]
     },
     "execution_count": 118,
     "metadata": {},
     "output_type": "execute_result"
    }
   ],
   "source": [
    "estimators_AD = [IsolationForest().fit(data.x_train[indx]) for indx in bags_indexes]\n",
    "estimators_AD\n",
    "    "
   ]
  },
  {
   "cell_type": "code",
   "execution_count": 110,
   "metadata": {},
   "outputs": [],
   "source": [
    "\n",
    "from sklearn.ensemble import IsolationForest"
   ]
  },
  {
   "cell_type": "code",
   "execution_count": 119,
   "metadata": {},
   "outputs": [
    {
     "name": "stdout",
     "output_type": "stream",
     "text": [
      "[ 1  1  1  1  1  1  1  1  1  1  1  1  1  1  1  1  1  1  1  1  1  1  1  1\n",
      " -1  1  1  1  1  1 -1 -1  1  1  1  1 -1 -1  1  1  1  1  1  1 -1  1  1  1\n",
      "  1  1  1  1 -1  1  1  1  1  1  1  1  1  1 -1  1  1  1  1  1  1 -1  1  1\n",
      " -1  1  1  1  1  1  1  1  1  1  1  1  1  1  1  1  1 -1  1 -1 -1  1  1]\n"
     ]
    }
   ],
   "source": [
    "for est, bag_idx in zip(estimators_AD, bags_indexes):\n",
    "    oob_idxs = np.setxor1d(indexes, bag_idx)\n",
    "    oob_points = data.x_train[oob_idxs]\n",
    "    print(est.predict(oob_points))\n",
    "    break"
   ]
  },
  {
   "cell_type": "code",
   "execution_count": null,
   "metadata": {},
   "outputs": [
    {
     "name": "stdout",
     "output_type": "stream",
     "text": [
      "[-1]\n",
      "(array([[5.55101003, 3.54343267, 3.49945813, 1.36134952]]), array([0]))\n"
     ]
    }
   ],
   "source": [
    "for est, bag_idx in zip(estimators, bags_indexes):\n",
    "    oob_idxs = np.setxor1d(indexes, bag_idx)\n",
    "    oob_points = data.x_train[oob_idxs]\n",
    "    ad = IsolationForest().fit(oob_points)\n",
    "    test_pt = est.sample(1)\n",
    "    ad_pred = ad.predict(test_pt[0])\n",
    "    print(ad_pred)\n",
    "    print(test_pt)\n",
    "#    print(est.predict([oob_p]))\n",
    "    break\n",
    "#    est.predict()"
   ]
  },
  {
   "cell_type": "code",
   "execution_count": 90,
   "metadata": {},
   "outputs": [
    {
     "name": "stdout",
     "output_type": "stream",
     "text": [
      "8.67 µs ± 663 ns per loop (mean ± std. dev. of 7 runs, 100,000 loops each)\n"
     ]
    }
   ],
   "source": [
    "%%timeit\n",
    "sample_bag(indexes, 40)"
   ]
  },
  {
   "cell_type": "code",
   "execution_count": null,
   "metadata": {},
   "outputs": [],
   "source": [
    "\n",
    "def compute_data_oob_generative(\n",
    "    u: Utility,\n",
    "    n_est: int = 10,\n",
    "    max_samples: float = 0.8,\n",
    "    n_jobs: int = None,\n",
    "    loss: Callable = None,\n",
    "    *,\n",
    "    progress: bool = False,\n",
    ") -> ValuationResult:\n",
    "    r\"\"\"\n",
    "    \"\"\"\n",
    "\n",
    "    result: ValuationResult[np.int_, np.float_] = ValuationResult.empty(\n",
    "        algorithm=\"data_oob\", indices=u.data.indices, data_names=u.data.data_names\n",
    "    )\n",
    "\n",
    "    bag = BaggingClassifier(\n",
    "        u.model, n_estimators=n_est, max_samples=max_samples, n_jobs=n_jobs\n",
    "    )\n",
    "    loss = point_wise_accuracy\n",
    "\n",
    "    bag.fit(u.data.x_train, u.data.y_train)\n",
    "\n",
    "    for est, samples in maybe_progress(\n",
    "        zip(bag.estimators_, bag.estimators_samples_), progress, total=n_est\n",
    "    ):  # The bottleneck is the bag fitting not this part so TQDM is not very useful here\n",
    "        oob_idx = np.setxor1d(u.data.indices, np.unique(samples))\n",
    "        array_loss = loss(\n",
    "            preds=est.predict(u.data.x_train[oob_idx]), y=u.data.y_train[oob_idx]\n",
    "        )\n",
    "        result += ValuationResult(\n",
    "            algorithm=\"data_oob\",\n",
    "            indices=oob_idx,\n",
    "            values=array_loss,\n",
    "            counts=np.ones_like(array_loss, dtype=u.data.indices.dtype),\n",
    "        )\n",
    "    return result"
   ]
  },
  {
   "cell_type": "code",
   "execution_count": null,
   "metadata": {},
   "outputs": [],
   "source": []
  },
  {
   "cell_type": "code",
   "execution_count": null,
   "metadata": {},
   "outputs": [],
   "source": []
  },
  {
   "cell_type": "code",
   "execution_count": 60,
   "metadata": {},
   "outputs": [
    {
     "data": {
      "text/plain": [
       "array([0, 0, 0, 0, 0, 0, 0, 0, 0, 0, 0, 0, 0, 0, 0, 0, 0, 0, 0, 0, 0, 0,\n",
       "       0, 0, 0, 0, 0, 0, 0, 0, 0, 0, 0, 0, 0, 0, 0, 0, 0, 0, 0, 0, 0, 0,\n",
       "       0, 0, 0, 0, 0, 0, 0, 0, 0, 0, 0, 0, 0, 0, 0, 0, 0, 0, 0, 0, 0, 0,\n",
       "       0, 0, 0, 0, 0, 0, 0, 0, 0, 0, 0, 0, 0, 0, 0, 0, 0, 0, 0, 0, 0, 0,\n",
       "       0, 0, 0, 0, 0, 0, 0, 0, 0, 0, 0, 0])"
      ]
     },
     "execution_count": 60,
     "metadata": {},
     "output_type": "execute_result"
    }
   ],
   "source": [
    "m = GaussianMixture()\n",
    "m.fit(data.x_train)\n",
    "a = m.sample(100)\n",
    "a[1]"
   ]
  },
  {
   "cell_type": "code",
   "execution_count": null,
   "metadata": {},
   "outputs": [],
   "source": []
  },
  {
   "cell_type": "code",
   "execution_count": null,
   "metadata": {},
   "outputs": [],
   "source": []
  },
  {
   "cell_type": "code",
   "execution_count": null,
   "metadata": {},
   "outputs": [],
   "source": []
  },
  {
   "cell_type": "code",
   "execution_count": null,
   "metadata": {},
   "outputs": [],
   "source": []
  },
  {
   "cell_type": "code",
   "execution_count": null,
   "metadata": {},
   "outputs": [],
   "source": []
  },
  {
   "cell_type": "code",
   "execution_count": null,
   "metadata": {},
   "outputs": [],
   "source": []
  },
  {
   "cell_type": "code",
   "execution_count": null,
   "metadata": {},
   "outputs": [],
   "source": []
  },
  {
   "cell_type": "code",
   "execution_count": 62,
   "metadata": {},
   "outputs": [
    {
     "ename": "SyntaxError",
     "evalue": "cannot assign to literal (3293032332.py, line 1)",
     "output_type": "error",
     "traceback": [
      "\u001b[0;36m  Cell \u001b[0;32mIn[62], line 1\u001b[0;36m\u001b[0m\n\u001b[0;31m    1=2\u001b[0m\n\u001b[0m    ^\u001b[0m\n\u001b[0;31mSyntaxError\u001b[0m\u001b[0;31m:\u001b[0m cannot assign to literal\n"
     ]
    }
   ],
   "source": [
    "1=2"
   ]
  },
  {
   "cell_type": "code",
   "execution_count": 23,
   "metadata": {},
   "outputs": [],
   "source": [
    "metadata = {\"METADATA_SPEC_VERSION\":\"SINGLE_TABLE_V1\",\n",
    "            \"columns\":{col:{\"sdtype\":\"numerical\",\"computer_representation\":\"Float\"} for col in data.feature_names}}"
   ]
  },
  {
   "cell_type": "code",
   "execution_count": 28,
   "metadata": {},
   "outputs": [
    {
     "data": {
      "text/plain": [
       "{'METADATA_SPEC_VERSION': 'SINGLE_TABLE_V1',\n",
       " 'columns': {'sepal length (cm)': {'sdtype': 'numerical',\n",
       "   'computer_representation': 'Float'},\n",
       "  'sepal width (cm)': {'sdtype': 'numerical',\n",
       "   'computer_representation': 'Float'},\n",
       "  'petal length (cm)': {'sdtype': 'numerical',\n",
       "   'computer_representation': 'Float'},\n",
       "  'petal width (cm)': {'sdtype': 'numerical',\n",
       "   'computer_representation': 'Float'}}}"
      ]
     },
     "execution_count": 28,
     "metadata": {},
     "output_type": "execute_result"
    }
   ],
   "source": [
    "metadata"
   ]
  },
  {
   "cell_type": "code",
   "execution_count": 4,
   "metadata": {},
   "outputs": [],
   "source": [
    "from sdv.single_table import GaussianCopulaSynthesizer"
   ]
  },
  {
   "cell_type": "code",
   "execution_count": 27,
   "metadata": {},
   "outputs": [
    {
     "ename": "TypeError",
     "evalue": "__init__() missing 1 required positional argument: 'metadata'",
     "output_type": "error",
     "traceback": [
      "\u001b[0;31m---------------------------------------------------------------------------\u001b[0m",
      "\u001b[0;31mTypeError\u001b[0m                                 Traceback (most recent call last)",
      "\u001b[1;32m/home/bastienzim/Documents/pyDVL_DataOOB/notebooks/my_notebooks/OOB_for_Genrated_Data.ipynb Cell 7\u001b[0m line \u001b[0;36m1\n\u001b[0;32m----> <a href='vscode-notebook-cell:/home/bastienzim/Documents/pyDVL_DataOOB/notebooks/my_notebooks/OOB_for_Genrated_Data.ipynb#X14sZmlsZQ%3D%3D?line=0'>1</a>\u001b[0m synthesizer \u001b[39m=\u001b[39m GaussianCopulaSynthesizer(\n\u001b[1;32m      <a href='vscode-notebook-cell:/home/bastienzim/Documents/pyDVL_DataOOB/notebooks/my_notebooks/OOB_for_Genrated_Data.ipynb#X14sZmlsZQ%3D%3D?line=1'>2</a>\u001b[0m \n\u001b[1;32m      <a href='vscode-notebook-cell:/home/bastienzim/Documents/pyDVL_DataOOB/notebooks/my_notebooks/OOB_for_Genrated_Data.ipynb#X14sZmlsZQ%3D%3D?line=2'>3</a>\u001b[0m )\n",
      "\u001b[0;31mTypeError\u001b[0m: __init__() missing 1 required positional argument: 'metadata'"
     ]
    }
   ],
   "source": [
    "synthesizer = GaussianCopulaSynthesizer(metadata)"
   ]
  },
  {
   "cell_type": "code",
   "execution_count": 25,
   "metadata": {},
   "outputs": [
    {
     "ename": "AttributeError",
     "evalue": "'dict' object has no attribute 'validate'",
     "output_type": "error",
     "traceback": [
      "\u001b[0;31m---------------------------------------------------------------------------\u001b[0m",
      "\u001b[0;31mAttributeError\u001b[0m                            Traceback (most recent call last)",
      "\u001b[1;32m/home/bastienzim/Documents/pyDVL_DataOOB/notebooks/my_notebooks/OOB_for_Genrated_Data.ipynb Cell 7\u001b[0m line \u001b[0;36m1\n\u001b[0;32m----> <a href='vscode-notebook-cell:/home/bastienzim/Documents/pyDVL_DataOOB/notebooks/my_notebooks/OOB_for_Genrated_Data.ipynb#W5sZmlsZQ%3D%3D?line=0'>1</a>\u001b[0m synthesizer \u001b[39m=\u001b[39m GaussianCopulaSynthesizer(metadata)\n\u001b[1;32m      <a href='vscode-notebook-cell:/home/bastienzim/Documents/pyDVL_DataOOB/notebooks/my_notebooks/OOB_for_Genrated_Data.ipynb#W5sZmlsZQ%3D%3D?line=1'>2</a>\u001b[0m synthesizer\u001b[39m.\u001b[39mfit(real_data)\n",
      "File \u001b[0;32m~/Documents/pyDVL_DataOOB/venv/lib/python3.8/site-packages/sdv/single_table/copulas.py:95\u001b[0m, in \u001b[0;36mGaussianCopulaSynthesizer.__init__\u001b[0;34m(self, metadata, enforce_min_max_values, enforce_rounding, locales, numerical_distributions, default_distribution)\u001b[0m\n\u001b[1;32m     93\u001b[0m \u001b[39mdef\u001b[39;00m \u001b[39m__init__\u001b[39m(\u001b[39mself\u001b[39m, metadata, enforce_min_max_values\u001b[39m=\u001b[39m\u001b[39mTrue\u001b[39;00m, enforce_rounding\u001b[39m=\u001b[39m\u001b[39mTrue\u001b[39;00m, locales\u001b[39m=\u001b[39m\u001b[39mNone\u001b[39;00m,\n\u001b[1;32m     94\u001b[0m              numerical_distributions\u001b[39m=\u001b[39m\u001b[39mNone\u001b[39;00m, default_distribution\u001b[39m=\u001b[39m\u001b[39mNone\u001b[39;00m):\n\u001b[0;32m---> 95\u001b[0m     \u001b[39msuper\u001b[39;49m()\u001b[39m.\u001b[39;49m\u001b[39m__init__\u001b[39;49m(\n\u001b[1;32m     96\u001b[0m         metadata,\n\u001b[1;32m     97\u001b[0m         enforce_min_max_values\u001b[39m=\u001b[39;49menforce_min_max_values,\n\u001b[1;32m     98\u001b[0m         enforce_rounding\u001b[39m=\u001b[39;49menforce_rounding,\n\u001b[1;32m     99\u001b[0m         locales\u001b[39m=\u001b[39;49mlocales,\n\u001b[1;32m    100\u001b[0m     )\n\u001b[1;32m    101\u001b[0m     validate_numerical_distributions(numerical_distributions, \u001b[39mself\u001b[39m\u001b[39m.\u001b[39mmetadata\u001b[39m.\u001b[39mcolumns)\n\u001b[1;32m    102\u001b[0m     \u001b[39mself\u001b[39m\u001b[39m.\u001b[39mnumerical_distributions \u001b[39m=\u001b[39m numerical_distributions \u001b[39mor\u001b[39;00m {}\n",
      "File \u001b[0;32m~/Documents/pyDVL_DataOOB/venv/lib/python3.8/site-packages/sdv/single_table/base.py:78\u001b[0m, in \u001b[0;36mBaseSynthesizer.__init__\u001b[0;34m(self, metadata, enforce_min_max_values, enforce_rounding, locales)\u001b[0m\n\u001b[1;32m     76\u001b[0m \u001b[39mself\u001b[39m\u001b[39m.\u001b[39m_validate_inputs(enforce_min_max_values, enforce_rounding)\n\u001b[1;32m     77\u001b[0m \u001b[39mself\u001b[39m\u001b[39m.\u001b[39mmetadata \u001b[39m=\u001b[39m metadata\n\u001b[0;32m---> 78\u001b[0m \u001b[39mself\u001b[39;49m\u001b[39m.\u001b[39;49mmetadata\u001b[39m.\u001b[39;49mvalidate()\n\u001b[1;32m     79\u001b[0m \u001b[39mself\u001b[39m\u001b[39m.\u001b[39menforce_min_max_values \u001b[39m=\u001b[39m enforce_min_max_values\n\u001b[1;32m     80\u001b[0m \u001b[39mself\u001b[39m\u001b[39m.\u001b[39menforce_rounding \u001b[39m=\u001b[39m enforce_rounding\n",
      "\u001b[0;31mAttributeError\u001b[0m: 'dict' object has no attribute 'validate'"
     ]
    }
   ],
   "source": [
    "\n",
    "synthesizer.fit(real_data)"
   ]
  },
  {
   "cell_type": "code",
   "execution_count": null,
   "metadata": {},
   "outputs": [],
   "source": []
  },
  {
   "cell_type": "code",
   "execution_count": null,
   "metadata": {},
   "outputs": [],
   "source": []
  },
  {
   "cell_type": "code",
   "execution_count": 29,
   "metadata": {},
   "outputs": [
    {
     "name": "stdout",
     "output_type": "stream",
     "text": [
      "Requirement already satisfied: ctgan in /home/bastienzim/Documents/pyDVL_DataOOB/venv/lib/python3.8/site-packages (0.7.4)\n",
      "Requirement already satisfied: torch>=1.8.0; python_version < \"3.10\" in /home/bastienzim/Documents/pyDVL_DataOOB/venv/lib/python3.8/site-packages (from ctgan) (2.0.1)\n",
      "Requirement already satisfied: rdt<2.0,>=1.3.0 in /home/bastienzim/Documents/pyDVL_DataOOB/venv/lib/python3.8/site-packages (from ctgan) (1.7.0)\n",
      "Requirement already satisfied: pandas>=1.1.3; python_version < \"3.10\" in /home/bastienzim/Documents/pyDVL_DataOOB/venv/lib/python3.8/site-packages (from ctgan) (2.0.3)\n",
      "Requirement already satisfied: numpy<2,>=1.20.0; python_version < \"3.10\" in /home/bastienzim/Documents/pyDVL_DataOOB/venv/lib/python3.8/site-packages (from ctgan) (1.24.4)\n",
      "Requirement already satisfied: nvidia-cufft-cu11==10.9.0.58; platform_system == \"Linux\" and platform_machine == \"x86_64\" in /home/bastienzim/Documents/pyDVL_DataOOB/venv/lib/python3.8/site-packages (from torch>=1.8.0; python_version < \"3.10\"->ctgan) (10.9.0.58)\n",
      "Requirement already satisfied: nvidia-cusolver-cu11==11.4.0.1; platform_system == \"Linux\" and platform_machine == \"x86_64\" in /home/bastienzim/Documents/pyDVL_DataOOB/venv/lib/python3.8/site-packages (from torch>=1.8.0; python_version < \"3.10\"->ctgan) (11.4.0.1)\n",
      "Requirement already satisfied: filelock in /home/bastienzim/Documents/pyDVL_DataOOB/venv/lib/python3.8/site-packages (from torch>=1.8.0; python_version < \"3.10\"->ctgan) (3.12.4)\n",
      "Requirement already satisfied: triton==2.0.0; platform_system == \"Linux\" and platform_machine == \"x86_64\" in /home/bastienzim/Documents/pyDVL_DataOOB/venv/lib/python3.8/site-packages (from torch>=1.8.0; python_version < \"3.10\"->ctgan) (2.0.0)\n",
      "Requirement already satisfied: nvidia-cuda-cupti-cu11==11.7.101; platform_system == \"Linux\" and platform_machine == \"x86_64\" in /home/bastienzim/Documents/pyDVL_DataOOB/venv/lib/python3.8/site-packages (from torch>=1.8.0; python_version < \"3.10\"->ctgan) (11.7.101)\n",
      "Requirement already satisfied: sympy in /home/bastienzim/Documents/pyDVL_DataOOB/venv/lib/python3.8/site-packages (from torch>=1.8.0; python_version < \"3.10\"->ctgan) (1.12)\n",
      "Requirement already satisfied: networkx in /home/bastienzim/Documents/pyDVL_DataOOB/venv/lib/python3.8/site-packages (from torch>=1.8.0; python_version < \"3.10\"->ctgan) (3.1)\n",
      "Requirement already satisfied: nvidia-cuda-nvrtc-cu11==11.7.99; platform_system == \"Linux\" and platform_machine == \"x86_64\" in /home/bastienzim/Documents/pyDVL_DataOOB/venv/lib/python3.8/site-packages (from torch>=1.8.0; python_version < \"3.10\"->ctgan) (11.7.99)\n",
      "Requirement already satisfied: nvidia-cublas-cu11==11.10.3.66; platform_system == \"Linux\" and platform_machine == \"x86_64\" in /home/bastienzim/Documents/pyDVL_DataOOB/venv/lib/python3.8/site-packages (from torch>=1.8.0; python_version < \"3.10\"->ctgan) (11.10.3.66)\n",
      "Requirement already satisfied: nvidia-curand-cu11==10.2.10.91; platform_system == \"Linux\" and platform_machine == \"x86_64\" in /home/bastienzim/Documents/pyDVL_DataOOB/venv/lib/python3.8/site-packages (from torch>=1.8.0; python_version < \"3.10\"->ctgan) (10.2.10.91)\n",
      "Requirement already satisfied: typing-extensions in /home/bastienzim/Documents/pyDVL_DataOOB/venv/lib/python3.8/site-packages (from torch>=1.8.0; python_version < \"3.10\"->ctgan) (4.8.0)\n",
      "Requirement already satisfied: nvidia-cudnn-cu11==8.5.0.96; platform_system == \"Linux\" and platform_machine == \"x86_64\" in /home/bastienzim/Documents/pyDVL_DataOOB/venv/lib/python3.8/site-packages (from torch>=1.8.0; python_version < \"3.10\"->ctgan) (8.5.0.96)\n",
      "Requirement already satisfied: nvidia-nccl-cu11==2.14.3; platform_system == \"Linux\" and platform_machine == \"x86_64\" in /home/bastienzim/Documents/pyDVL_DataOOB/venv/lib/python3.8/site-packages (from torch>=1.8.0; python_version < \"3.10\"->ctgan) (2.14.3)\n",
      "Requirement already satisfied: nvidia-nvtx-cu11==11.7.91; platform_system == \"Linux\" and platform_machine == \"x86_64\" in /home/bastienzim/Documents/pyDVL_DataOOB/venv/lib/python3.8/site-packages (from torch>=1.8.0; python_version < \"3.10\"->ctgan) (11.7.91)\n",
      "Requirement already satisfied: nvidia-cusparse-cu11==11.7.4.91; platform_system == \"Linux\" and platform_machine == \"x86_64\" in /home/bastienzim/Documents/pyDVL_DataOOB/venv/lib/python3.8/site-packages (from torch>=1.8.0; python_version < \"3.10\"->ctgan) (11.7.4.91)\n",
      "Requirement already satisfied: nvidia-cuda-runtime-cu11==11.7.99; platform_system == \"Linux\" and platform_machine == \"x86_64\" in /home/bastienzim/Documents/pyDVL_DataOOB/venv/lib/python3.8/site-packages (from torch>=1.8.0; python_version < \"3.10\"->ctgan) (11.7.99)\n",
      "Requirement already satisfied: jinja2 in /home/bastienzim/Documents/pyDVL_DataOOB/venv/lib/python3.8/site-packages (from torch>=1.8.0; python_version < \"3.10\"->ctgan) (3.1.2)\n",
      "Requirement already satisfied: scikit-learn<2,>=0.24; python_version < \"3.10\" in /home/bastienzim/Documents/pyDVL_DataOOB/venv/lib/python3.8/site-packages (from rdt<2.0,>=1.3.0->ctgan) (1.3.1)\n",
      "Requirement already satisfied: psutil<6,>=5.7 in /home/bastienzim/Documents/pyDVL_DataOOB/venv/lib/python3.8/site-packages (from rdt<2.0,>=1.3.0->ctgan) (5.9.5)\n",
      "Requirement already satisfied: scipy<2,>=1.5.4; python_version < \"3.10\" in /home/bastienzim/Documents/pyDVL_DataOOB/venv/lib/python3.8/site-packages (from rdt<2.0,>=1.3.0->ctgan) (1.10.1)\n",
      "Requirement already satisfied: Faker>=10 in /home/bastienzim/Documents/pyDVL_DataOOB/venv/lib/python3.8/site-packages (from rdt<2.0,>=1.3.0->ctgan) (14.2.1)\n",
      "Requirement already satisfied: tzdata>=2022.1 in /home/bastienzim/Documents/pyDVL_DataOOB/venv/lib/python3.8/site-packages (from pandas>=1.1.3; python_version < \"3.10\"->ctgan) (2023.3)\n",
      "Requirement already satisfied: pytz>=2020.1 in /home/bastienzim/Documents/pyDVL_DataOOB/venv/lib/python3.8/site-packages (from pandas>=1.1.3; python_version < \"3.10\"->ctgan) (2023.3.post1)\n",
      "Requirement already satisfied: python-dateutil>=2.8.2 in /home/bastienzim/Documents/pyDVL_DataOOB/venv/lib/python3.8/site-packages (from pandas>=1.1.3; python_version < \"3.10\"->ctgan) (2.8.2)\n",
      "Requirement already satisfied: lit in /home/bastienzim/Documents/pyDVL_DataOOB/venv/lib/python3.8/site-packages (from triton==2.0.0; platform_system == \"Linux\" and platform_machine == \"x86_64\"->torch>=1.8.0; python_version < \"3.10\"->ctgan) (16.0.6)\n",
      "Requirement already satisfied: cmake in /home/bastienzim/Documents/pyDVL_DataOOB/venv/lib/python3.8/site-packages (from triton==2.0.0; platform_system == \"Linux\" and platform_machine == \"x86_64\"->torch>=1.8.0; python_version < \"3.10\"->ctgan) (3.27.5)\n",
      "Requirement already satisfied: wheel in /home/bastienzim/Documents/pyDVL_DataOOB/venv/lib/python3.8/site-packages (from nvidia-cuda-cupti-cu11==11.7.101; platform_system == \"Linux\" and platform_machine == \"x86_64\"->torch>=1.8.0; python_version < \"3.10\"->ctgan) (0.41.2)\n",
      "Requirement already satisfied: setuptools in /home/bastienzim/Documents/pyDVL_DataOOB/venv/lib/python3.8/site-packages (from nvidia-cuda-cupti-cu11==11.7.101; platform_system == \"Linux\" and platform_machine == \"x86_64\"->torch>=1.8.0; python_version < \"3.10\"->ctgan) (68.2.2)\n",
      "Requirement already satisfied: mpmath>=0.19 in /home/bastienzim/Documents/pyDVL_DataOOB/venv/lib/python3.8/site-packages (from sympy->torch>=1.8.0; python_version < \"3.10\"->ctgan) (1.3.0)\n",
      "Requirement already satisfied: MarkupSafe>=2.0 in /home/bastienzim/Documents/pyDVL_DataOOB/venv/lib/python3.8/site-packages (from jinja2->torch>=1.8.0; python_version < \"3.10\"->ctgan) (2.1.3)\n",
      "Requirement already satisfied: threadpoolctl>=2.0.0 in /home/bastienzim/Documents/pyDVL_DataOOB/venv/lib/python3.8/site-packages (from scikit-learn<2,>=0.24; python_version < \"3.10\"->rdt<2.0,>=1.3.0->ctgan) (3.2.0)\n",
      "Requirement already satisfied: joblib>=1.1.1 in /home/bastienzim/Documents/pyDVL_DataOOB/venv/lib/python3.8/site-packages (from scikit-learn<2,>=0.24; python_version < \"3.10\"->rdt<2.0,>=1.3.0->ctgan) (1.3.2)\n",
      "Requirement already satisfied: six>=1.5 in /home/bastienzim/Documents/pyDVL_DataOOB/venv/lib/python3.8/site-packages (from python-dateutil>=2.8.2->pandas>=1.1.3; python_version < \"3.10\"->ctgan) (1.16.0)\n"
     ]
    }
   ],
   "source": [
    "! python3 -m pip install ctgan"
   ]
  },
  {
   "cell_type": "code",
   "execution_count": 38,
   "metadata": {},
   "outputs": [
    {
     "data": {
      "text/plain": [
       "(32561, 15)"
      ]
     },
     "execution_count": 38,
     "metadata": {},
     "output_type": "execute_result"
    }
   ],
   "source": [
    "real_data.shape"
   ]
  },
  {
   "cell_type": "code",
   "execution_count": 42,
   "metadata": {},
   "outputs": [],
   "source": [
    "from sklearn.mixture import GaussianMixture"
   ]
  },
  {
   "cell_type": "code",
   "execution_count": 43,
   "metadata": {},
   "outputs": [
    {
     "ename": "ValueError",
     "evalue": "could not convert string to float: ' Private'",
     "output_type": "error",
     "traceback": [
      "\u001b[0;31m---------------------------------------------------------------------------\u001b[0m",
      "\u001b[0;31mValueError\u001b[0m                                Traceback (most recent call last)",
      "\u001b[0;32m/tmp/ipykernel_34164/2604612352.py\u001b[0m in \u001b[0;36m?\u001b[0;34m()\u001b[0m\n\u001b[0;32m----> 2\u001b[0;31m \u001b[0mm\u001b[0m \u001b[0;34m=\u001b[0m \u001b[0mGaussianMixture\u001b[0m\u001b[0;34m(\u001b[0m\u001b[0;34m)\u001b[0m\u001b[0;34m\u001b[0m\u001b[0;34m\u001b[0m\u001b[0m\n\u001b[0m\u001b[1;32m      3\u001b[0m \u001b[0mm\u001b[0m\u001b[0;34m.\u001b[0m\u001b[0mfit\u001b[0m\u001b[0;34m(\u001b[0m\u001b[0mreal_data\u001b[0m\u001b[0;34m)\u001b[0m\u001b[0;34m\u001b[0m\u001b[0;34m\u001b[0m\u001b[0m\n",
      "\u001b[0;32m~/Documents/pyDVL_DataOOB/venv/lib/python3.8/site-packages/sklearn/mixture/_base.py\u001b[0m in \u001b[0;36m?\u001b[0;34m(self, X, y)\u001b[0m\n\u001b[1;32m    177\u001b[0m         \u001b[0mself\u001b[0m \u001b[0;34m:\u001b[0m \u001b[0mobject\u001b[0m\u001b[0;34m\u001b[0m\u001b[0;34m\u001b[0m\u001b[0m\n\u001b[1;32m    178\u001b[0m             \u001b[0mThe\u001b[0m \u001b[0mfitted\u001b[0m \u001b[0mmixture\u001b[0m\u001b[0;34m.\u001b[0m\u001b[0;34m\u001b[0m\u001b[0;34m\u001b[0m\u001b[0m\n\u001b[1;32m    179\u001b[0m         \"\"\"\n\u001b[1;32m    180\u001b[0m         \u001b[0;31m# parameters are validated in fit_predict\u001b[0m\u001b[0;34m\u001b[0m\u001b[0;34m\u001b[0m\u001b[0;34m\u001b[0m\u001b[0m\n\u001b[0;32m--> 181\u001b[0;31m         \u001b[0mself\u001b[0m\u001b[0;34m.\u001b[0m\u001b[0mfit_predict\u001b[0m\u001b[0;34m(\u001b[0m\u001b[0mX\u001b[0m\u001b[0;34m,\u001b[0m \u001b[0my\u001b[0m\u001b[0;34m)\u001b[0m\u001b[0;34m\u001b[0m\u001b[0;34m\u001b[0m\u001b[0m\n\u001b[0m\u001b[1;32m    182\u001b[0m         \u001b[0;32mreturn\u001b[0m \u001b[0mself\u001b[0m\u001b[0;34m\u001b[0m\u001b[0;34m\u001b[0m\u001b[0m\n",
      "\u001b[0;32m~/Documents/pyDVL_DataOOB/venv/lib/python3.8/site-packages/sklearn/base.py\u001b[0m in \u001b[0;36m?\u001b[0;34m(estimator, *args, **kwargs)\u001b[0m\n\u001b[1;32m   1148\u001b[0m                 skip_parameter_validation=(\n\u001b[1;32m   1149\u001b[0m                     \u001b[0mprefer_skip_nested_validation\u001b[0m \u001b[0;32mor\u001b[0m \u001b[0mglobal_skip_validation\u001b[0m\u001b[0;34m\u001b[0m\u001b[0;34m\u001b[0m\u001b[0m\n\u001b[1;32m   1150\u001b[0m                 )\n\u001b[1;32m   1151\u001b[0m             ):\n\u001b[0;32m-> 1152\u001b[0;31m                 \u001b[0;32mreturn\u001b[0m \u001b[0mfit_method\u001b[0m\u001b[0;34m(\u001b[0m\u001b[0mestimator\u001b[0m\u001b[0;34m,\u001b[0m \u001b[0;34m*\u001b[0m\u001b[0margs\u001b[0m\u001b[0;34m,\u001b[0m \u001b[0;34m**\u001b[0m\u001b[0mkwargs\u001b[0m\u001b[0;34m)\u001b[0m\u001b[0;34m\u001b[0m\u001b[0;34m\u001b[0m\u001b[0m\n\u001b[0m",
      "\u001b[0;32m~/Documents/pyDVL_DataOOB/venv/lib/python3.8/site-packages/sklearn/mixture/_base.py\u001b[0m in \u001b[0;36m?\u001b[0;34m(self, X, y)\u001b[0m\n\u001b[1;32m    208\u001b[0m         \u001b[0;34m-\u001b[0m\u001b[0;34m-\u001b[0m\u001b[0;34m-\u001b[0m\u001b[0;34m-\u001b[0m\u001b[0;34m-\u001b[0m\u001b[0;34m-\u001b[0m\u001b[0;34m-\u001b[0m\u001b[0;34m\u001b[0m\u001b[0;34m\u001b[0m\u001b[0m\n\u001b[1;32m    209\u001b[0m         \u001b[0mlabels\u001b[0m \u001b[0;34m:\u001b[0m \u001b[0marray\u001b[0m\u001b[0;34m,\u001b[0m \u001b[0mshape\u001b[0m \u001b[0;34m(\u001b[0m\u001b[0mn_samples\u001b[0m\u001b[0;34m,\u001b[0m\u001b[0;34m)\u001b[0m\u001b[0;34m\u001b[0m\u001b[0;34m\u001b[0m\u001b[0m\n\u001b[1;32m    210\u001b[0m             \u001b[0mComponent\u001b[0m \u001b[0mlabels\u001b[0m\u001b[0;34m.\u001b[0m\u001b[0;34m\u001b[0m\u001b[0;34m\u001b[0m\u001b[0m\n\u001b[1;32m    211\u001b[0m         \"\"\"\n\u001b[0;32m--> 212\u001b[0;31m         \u001b[0mX\u001b[0m \u001b[0;34m=\u001b[0m \u001b[0mself\u001b[0m\u001b[0;34m.\u001b[0m\u001b[0m_validate_data\u001b[0m\u001b[0;34m(\u001b[0m\u001b[0mX\u001b[0m\u001b[0;34m,\u001b[0m \u001b[0mdtype\u001b[0m\u001b[0;34m=\u001b[0m\u001b[0;34m[\u001b[0m\u001b[0mnp\u001b[0m\u001b[0;34m.\u001b[0m\u001b[0mfloat64\u001b[0m\u001b[0;34m,\u001b[0m \u001b[0mnp\u001b[0m\u001b[0;34m.\u001b[0m\u001b[0mfloat32\u001b[0m\u001b[0;34m]\u001b[0m\u001b[0;34m,\u001b[0m \u001b[0mensure_min_samples\u001b[0m\u001b[0;34m=\u001b[0m\u001b[0;36m2\u001b[0m\u001b[0;34m)\u001b[0m\u001b[0;34m\u001b[0m\u001b[0;34m\u001b[0m\u001b[0m\n\u001b[0m\u001b[1;32m    213\u001b[0m         \u001b[0;32mif\u001b[0m \u001b[0mX\u001b[0m\u001b[0;34m.\u001b[0m\u001b[0mshape\u001b[0m\u001b[0;34m[\u001b[0m\u001b[0;36m0\u001b[0m\u001b[0;34m]\u001b[0m \u001b[0;34m<\u001b[0m \u001b[0mself\u001b[0m\u001b[0;34m.\u001b[0m\u001b[0mn_components\u001b[0m\u001b[0;34m:\u001b[0m\u001b[0;34m\u001b[0m\u001b[0;34m\u001b[0m\u001b[0m\n\u001b[1;32m    214\u001b[0m             raise ValueError(\n\u001b[1;32m    215\u001b[0m                 \u001b[0;34m\"Expected n_samples >= n_components \"\u001b[0m\u001b[0;34m\u001b[0m\u001b[0;34m\u001b[0m\u001b[0m\n",
      "\u001b[0;32m~/Documents/pyDVL_DataOOB/venv/lib/python3.8/site-packages/sklearn/base.py\u001b[0m in \u001b[0;36m?\u001b[0;34m(self, X, y, reset, validate_separately, cast_to_ndarray, **check_params)\u001b[0m\n\u001b[1;32m    601\u001b[0m                 \u001b[0mout\u001b[0m \u001b[0;34m=\u001b[0m \u001b[0my\u001b[0m\u001b[0;34m\u001b[0m\u001b[0;34m\u001b[0m\u001b[0m\n\u001b[1;32m    602\u001b[0m             \u001b[0;32melse\u001b[0m\u001b[0;34m:\u001b[0m\u001b[0;34m\u001b[0m\u001b[0;34m\u001b[0m\u001b[0m\n\u001b[1;32m    603\u001b[0m                 \u001b[0mout\u001b[0m \u001b[0;34m=\u001b[0m \u001b[0mX\u001b[0m\u001b[0;34m,\u001b[0m \u001b[0my\u001b[0m\u001b[0;34m\u001b[0m\u001b[0;34m\u001b[0m\u001b[0m\n\u001b[1;32m    604\u001b[0m         \u001b[0;32melif\u001b[0m \u001b[0;32mnot\u001b[0m \u001b[0mno_val_X\u001b[0m \u001b[0;32mand\u001b[0m \u001b[0mno_val_y\u001b[0m\u001b[0;34m:\u001b[0m\u001b[0;34m\u001b[0m\u001b[0;34m\u001b[0m\u001b[0m\n\u001b[0;32m--> 605\u001b[0;31m             \u001b[0mout\u001b[0m \u001b[0;34m=\u001b[0m \u001b[0mcheck_array\u001b[0m\u001b[0;34m(\u001b[0m\u001b[0mX\u001b[0m\u001b[0;34m,\u001b[0m \u001b[0minput_name\u001b[0m\u001b[0;34m=\u001b[0m\u001b[0;34m\"X\"\u001b[0m\u001b[0;34m,\u001b[0m \u001b[0;34m**\u001b[0m\u001b[0mcheck_params\u001b[0m\u001b[0;34m)\u001b[0m\u001b[0;34m\u001b[0m\u001b[0;34m\u001b[0m\u001b[0m\n\u001b[0m\u001b[1;32m    606\u001b[0m         \u001b[0;32melif\u001b[0m \u001b[0mno_val_X\u001b[0m \u001b[0;32mand\u001b[0m \u001b[0;32mnot\u001b[0m \u001b[0mno_val_y\u001b[0m\u001b[0;34m:\u001b[0m\u001b[0;34m\u001b[0m\u001b[0;34m\u001b[0m\u001b[0m\n\u001b[1;32m    607\u001b[0m             \u001b[0mout\u001b[0m \u001b[0;34m=\u001b[0m \u001b[0m_check_y\u001b[0m\u001b[0;34m(\u001b[0m\u001b[0my\u001b[0m\u001b[0;34m,\u001b[0m \u001b[0;34m**\u001b[0m\u001b[0mcheck_params\u001b[0m\u001b[0;34m)\u001b[0m\u001b[0;34m\u001b[0m\u001b[0;34m\u001b[0m\u001b[0m\n\u001b[1;32m    608\u001b[0m         \u001b[0;32melse\u001b[0m\u001b[0;34m:\u001b[0m\u001b[0;34m\u001b[0m\u001b[0;34m\u001b[0m\u001b[0m\n",
      "\u001b[0;32m~/Documents/pyDVL_DataOOB/venv/lib/python3.8/site-packages/sklearn/utils/validation.py\u001b[0m in \u001b[0;36m?\u001b[0;34m(array, accept_sparse, accept_large_sparse, dtype, order, copy, force_all_finite, ensure_2d, allow_nd, ensure_min_samples, ensure_min_features, estimator, input_name)\u001b[0m\n\u001b[1;32m    913\u001b[0m                     \u001b[0marray\u001b[0m \u001b[0;34m=\u001b[0m \u001b[0mxp\u001b[0m\u001b[0;34m.\u001b[0m\u001b[0mastype\u001b[0m\u001b[0;34m(\u001b[0m\u001b[0marray\u001b[0m\u001b[0;34m,\u001b[0m \u001b[0mdtype\u001b[0m\u001b[0;34m,\u001b[0m \u001b[0mcopy\u001b[0m\u001b[0;34m=\u001b[0m\u001b[0;32mFalse\u001b[0m\u001b[0;34m)\u001b[0m\u001b[0;34m\u001b[0m\u001b[0;34m\u001b[0m\u001b[0m\n\u001b[1;32m    914\u001b[0m                 \u001b[0;32melse\u001b[0m\u001b[0;34m:\u001b[0m\u001b[0;34m\u001b[0m\u001b[0;34m\u001b[0m\u001b[0m\n\u001b[1;32m    915\u001b[0m                     \u001b[0marray\u001b[0m \u001b[0;34m=\u001b[0m \u001b[0m_asarray_with_order\u001b[0m\u001b[0;34m(\u001b[0m\u001b[0marray\u001b[0m\u001b[0;34m,\u001b[0m \u001b[0morder\u001b[0m\u001b[0;34m=\u001b[0m\u001b[0morder\u001b[0m\u001b[0;34m,\u001b[0m \u001b[0mdtype\u001b[0m\u001b[0;34m=\u001b[0m\u001b[0mdtype\u001b[0m\u001b[0;34m,\u001b[0m \u001b[0mxp\u001b[0m\u001b[0;34m=\u001b[0m\u001b[0mxp\u001b[0m\u001b[0;34m)\u001b[0m\u001b[0;34m\u001b[0m\u001b[0;34m\u001b[0m\u001b[0m\n\u001b[1;32m    916\u001b[0m             \u001b[0;32mexcept\u001b[0m \u001b[0mComplexWarning\u001b[0m \u001b[0;32mas\u001b[0m \u001b[0mcomplex_warning\u001b[0m\u001b[0;34m:\u001b[0m\u001b[0;34m\u001b[0m\u001b[0;34m\u001b[0m\u001b[0m\n\u001b[0;32m--> 917\u001b[0;31m                 raise ValueError(\n\u001b[0m\u001b[1;32m    918\u001b[0m                     \u001b[0;34m\"Complex data not supported\\n{}\\n\"\u001b[0m\u001b[0;34m.\u001b[0m\u001b[0mformat\u001b[0m\u001b[0;34m(\u001b[0m\u001b[0marray\u001b[0m\u001b[0;34m)\u001b[0m\u001b[0;34m\u001b[0m\u001b[0;34m\u001b[0m\u001b[0m\n\u001b[1;32m    919\u001b[0m                 ) from complex_warning\n\u001b[1;32m    920\u001b[0m \u001b[0;34m\u001b[0m\u001b[0m\n",
      "\u001b[0;32m~/Documents/pyDVL_DataOOB/venv/lib/python3.8/site-packages/sklearn/utils/_array_api.py\u001b[0m in \u001b[0;36m?\u001b[0;34m(array, dtype, order, copy, xp)\u001b[0m\n\u001b[1;32m    376\u001b[0m         \u001b[0;31m# Use NumPy API to support order\u001b[0m\u001b[0;34m\u001b[0m\u001b[0;34m\u001b[0m\u001b[0;34m\u001b[0m\u001b[0m\n\u001b[1;32m    377\u001b[0m         \u001b[0;32mif\u001b[0m \u001b[0mcopy\u001b[0m \u001b[0;32mis\u001b[0m \u001b[0;32mTrue\u001b[0m\u001b[0;34m:\u001b[0m\u001b[0;34m\u001b[0m\u001b[0;34m\u001b[0m\u001b[0m\n\u001b[1;32m    378\u001b[0m             \u001b[0marray\u001b[0m \u001b[0;34m=\u001b[0m \u001b[0mnumpy\u001b[0m\u001b[0;34m.\u001b[0m\u001b[0marray\u001b[0m\u001b[0;34m(\u001b[0m\u001b[0marray\u001b[0m\u001b[0;34m,\u001b[0m \u001b[0morder\u001b[0m\u001b[0;34m=\u001b[0m\u001b[0morder\u001b[0m\u001b[0;34m,\u001b[0m \u001b[0mdtype\u001b[0m\u001b[0;34m=\u001b[0m\u001b[0mdtype\u001b[0m\u001b[0;34m)\u001b[0m\u001b[0;34m\u001b[0m\u001b[0;34m\u001b[0m\u001b[0m\n\u001b[1;32m    379\u001b[0m         \u001b[0;32melse\u001b[0m\u001b[0;34m:\u001b[0m\u001b[0;34m\u001b[0m\u001b[0;34m\u001b[0m\u001b[0m\n\u001b[0;32m--> 380\u001b[0;31m             \u001b[0marray\u001b[0m \u001b[0;34m=\u001b[0m \u001b[0mnumpy\u001b[0m\u001b[0;34m.\u001b[0m\u001b[0masarray\u001b[0m\u001b[0;34m(\u001b[0m\u001b[0marray\u001b[0m\u001b[0;34m,\u001b[0m \u001b[0morder\u001b[0m\u001b[0;34m=\u001b[0m\u001b[0morder\u001b[0m\u001b[0;34m,\u001b[0m \u001b[0mdtype\u001b[0m\u001b[0;34m=\u001b[0m\u001b[0mdtype\u001b[0m\u001b[0;34m)\u001b[0m\u001b[0;34m\u001b[0m\u001b[0;34m\u001b[0m\u001b[0m\n\u001b[0m\u001b[1;32m    381\u001b[0m \u001b[0;34m\u001b[0m\u001b[0m\n\u001b[1;32m    382\u001b[0m         \u001b[0;31m# At this point array is a NumPy ndarray. We convert it to an array\u001b[0m\u001b[0;34m\u001b[0m\u001b[0;34m\u001b[0m\u001b[0;34m\u001b[0m\u001b[0m\n\u001b[1;32m    383\u001b[0m         \u001b[0;31m# container that is consistent with the input's namespace.\u001b[0m\u001b[0;34m\u001b[0m\u001b[0;34m\u001b[0m\u001b[0;34m\u001b[0m\u001b[0m\n",
      "\u001b[0;32m~/Documents/pyDVL_DataOOB/venv/lib/python3.8/site-packages/pandas/core/generic.py\u001b[0m in \u001b[0;36m?\u001b[0;34m(self, dtype)\u001b[0m\n\u001b[1;32m   1996\u001b[0m     \u001b[0;32mdef\u001b[0m \u001b[0m__array__\u001b[0m\u001b[0;34m(\u001b[0m\u001b[0mself\u001b[0m\u001b[0;34m,\u001b[0m \u001b[0mdtype\u001b[0m\u001b[0;34m:\u001b[0m \u001b[0mnpt\u001b[0m\u001b[0;34m.\u001b[0m\u001b[0mDTypeLike\u001b[0m \u001b[0;34m|\u001b[0m \u001b[0;32mNone\u001b[0m \u001b[0;34m=\u001b[0m \u001b[0;32mNone\u001b[0m\u001b[0;34m)\u001b[0m \u001b[0;34m->\u001b[0m \u001b[0mnp\u001b[0m\u001b[0;34m.\u001b[0m\u001b[0mndarray\u001b[0m\u001b[0;34m:\u001b[0m\u001b[0;34m\u001b[0m\u001b[0;34m\u001b[0m\u001b[0m\n\u001b[1;32m   1997\u001b[0m         \u001b[0mvalues\u001b[0m \u001b[0;34m=\u001b[0m \u001b[0mself\u001b[0m\u001b[0;34m.\u001b[0m\u001b[0m_values\u001b[0m\u001b[0;34m\u001b[0m\u001b[0;34m\u001b[0m\u001b[0m\n\u001b[0;32m-> 1998\u001b[0;31m         \u001b[0marr\u001b[0m \u001b[0;34m=\u001b[0m \u001b[0mnp\u001b[0m\u001b[0;34m.\u001b[0m\u001b[0masarray\u001b[0m\u001b[0;34m(\u001b[0m\u001b[0mvalues\u001b[0m\u001b[0;34m,\u001b[0m \u001b[0mdtype\u001b[0m\u001b[0;34m=\u001b[0m\u001b[0mdtype\u001b[0m\u001b[0;34m)\u001b[0m\u001b[0;34m\u001b[0m\u001b[0;34m\u001b[0m\u001b[0m\n\u001b[0m\u001b[1;32m   1999\u001b[0m         if (\n\u001b[1;32m   2000\u001b[0m             \u001b[0mastype_is_view\u001b[0m\u001b[0;34m(\u001b[0m\u001b[0mvalues\u001b[0m\u001b[0;34m.\u001b[0m\u001b[0mdtype\u001b[0m\u001b[0;34m,\u001b[0m \u001b[0marr\u001b[0m\u001b[0;34m.\u001b[0m\u001b[0mdtype\u001b[0m\u001b[0;34m)\u001b[0m\u001b[0;34m\u001b[0m\u001b[0;34m\u001b[0m\u001b[0m\n\u001b[1;32m   2001\u001b[0m             \u001b[0;32mand\u001b[0m \u001b[0musing_copy_on_write\u001b[0m\u001b[0;34m(\u001b[0m\u001b[0;34m)\u001b[0m\u001b[0;34m\u001b[0m\u001b[0;34m\u001b[0m\u001b[0m\n",
      "\u001b[0;31mValueError\u001b[0m: could not convert string to float: ' Private'"
     ]
    }
   ],
   "source": [
    "m = GaussianMixture()\n",
    "m.fit(real_data)"
   ]
  },
  {
   "cell_type": "code",
   "execution_count": 39,
   "metadata": {},
   "outputs": [
    {
     "name": "stderr",
     "output_type": "stream",
     "text": [
      "/home/bastienzim/Documents/pyDVL_DataOOB/venv/lib/python3.8/site-packages/rdt/transformers/base.py:132: FutureWarning: Future versions of RDT will not support the 'model_missing_values' parameter. Please switch to using the 'missing_value_generation' parameter to select your strategy.\n",
      "  warnings.warn(\n",
      "/home/bastienzim/Documents/pyDVL_DataOOB/venv/lib/python3.8/site-packages/rdt/transformers/base.py:132: FutureWarning: Future versions of RDT will not support the 'model_missing_values' parameter. Please switch to using the 'missing_value_generation' parameter to select your strategy.\n",
      "  warnings.warn(\n",
      "/home/bastienzim/Documents/pyDVL_DataOOB/venv/lib/python3.8/site-packages/rdt/transformers/base.py:132: FutureWarning: Future versions of RDT will not support the 'model_missing_values' parameter. Please switch to using the 'missing_value_generation' parameter to select your strategy.\n",
      "  warnings.warn(\n",
      "/home/bastienzim/Documents/pyDVL_DataOOB/venv/lib/python3.8/site-packages/rdt/transformers/base.py:132: FutureWarning: Future versions of RDT will not support the 'model_missing_values' parameter. Please switch to using the 'missing_value_generation' parameter to select your strategy.\n",
      "  warnings.warn(\n",
      "/home/bastienzim/Documents/pyDVL_DataOOB/venv/lib/python3.8/site-packages/rdt/transformers/base.py:132: FutureWarning: Future versions of RDT will not support the 'model_missing_values' parameter. Please switch to using the 'missing_value_generation' parameter to select your strategy.\n",
      "  warnings.warn(\n",
      "/home/bastienzim/Documents/pyDVL_DataOOB/venv/lib/python3.8/site-packages/rdt/transformers/base.py:132: FutureWarning: Future versions of RDT will not support the 'model_missing_values' parameter. Please switch to using the 'missing_value_generation' parameter to select your strategy.\n",
      "  warnings.warn(\n"
     ]
    }
   ],
   "source": [
    "from ctgan import CTGAN, TVAE\n",
    "from ctgan import load_demo\n",
    "\n",
    "real_data = load_demo().sample(1000)\n",
    "\n",
    "# Names of the columns that are discrete\n",
    "discrete_columns = [\n",
    "    'workclass',\n",
    "    'education',\n",
    "    'marital-status',\n",
    "    'occupation',\n",
    "    'relationship',\n",
    "    'race',\n",
    "    'sex',\n",
    "    'native-country',\n",
    "    'income'\n",
    "]\n",
    "\n",
    "#ctgan = CTGAN(epochs=10)\n",
    "ctgan = TVAE()\n",
    "\n",
    "ctgan.fit(real_data, discrete_columns)\n",
    "\n",
    "# Create synthetic data\n",
    "synthetic_data = ctgan.sample(1000)"
   ]
  },
  {
   "cell_type": "code",
   "execution_count": 40,
   "metadata": {},
   "outputs": [],
   "source": [
    "import copulas\n"
   ]
  },
  {
   "cell_type": "code",
   "execution_count": 41,
   "metadata": {},
   "outputs": [],
   "source": [
    "from copulas.multivariate import gaussian"
   ]
  },
  {
   "cell_type": "code",
   "execution_count": 34,
   "metadata": {},
   "outputs": [],
   "source": [
    "import ctgan"
   ]
  },
  {
   "cell_type": "code",
   "execution_count": 36,
   "metadata": {},
   "outputs": [
    {
     "data": {
      "text/plain": [
       "ctgan.synthesizers.tvae.TVAE"
      ]
     },
     "execution_count": 36,
     "metadata": {},
     "output_type": "execute_result"
    }
   ],
   "source": [
    "ctgan.TVAE"
   ]
  }
 ],
 "metadata": {
  "kernelspec": {
   "display_name": "venv",
   "language": "python",
   "name": "python3"
  },
  "language_info": {
   "codemirror_mode": {
    "name": "ipython",
    "version": 3
   },
   "file_extension": ".py",
   "mimetype": "text/x-python",
   "name": "python",
   "nbconvert_exporter": "python",
   "pygments_lexer": "ipython3",
   "version": "3.8.10"
  },
  "orig_nbformat": 4
 },
 "nbformat": 4,
 "nbformat_minor": 2
}
